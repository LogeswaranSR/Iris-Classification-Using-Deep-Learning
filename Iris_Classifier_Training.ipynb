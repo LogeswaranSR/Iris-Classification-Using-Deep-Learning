{
  "nbformat": 4,
  "nbformat_minor": 0,
  "metadata": {
    "colab": {
      "provenance": [],
      "authorship_tag": "ABX9TyNTaw3YN/GdXJt39esxeV82",
      "include_colab_link": true
    },
    "kernelspec": {
      "name": "python3",
      "display_name": "Python 3"
    },
    "language_info": {
      "name": "python"
    }
  },
  "cells": [
    {
      "cell_type": "markdown",
      "metadata": {
        "id": "view-in-github",
        "colab_type": "text"
      },
      "source": [
        "<a href=\"https://colab.research.google.com/github/LogeswaranSR/Iris-Classification-Using-Deep-Learning/blob/main/Iris_Classifier_Training.ipynb\" target=\"_parent\"><img src=\"https://colab.research.google.com/assets/colab-badge.svg\" alt=\"Open In Colab\"/></a>"
      ]
    },
    {
      "cell_type": "code",
      "execution_count": 1,
      "metadata": {
        "id": "QHkAIA-hummn"
      },
      "outputs": [],
      "source": [
        "import numpy as np\n",
        "import pandas as pd\n",
        "import matplotlib.pyplot as plt\n",
        "from sklearn.datasets import load_iris\n",
        "from sklearn.model_selection import train_test_split\n",
        "\n",
        "from keras.utils import to_categorical\n",
        "from keras.models import Sequential\n",
        "from keras.layers import Dense, Dropout\n",
        "from keras.callbacks import ReduceLROnPlateau, EarlyStopping"
      ]
    },
    {
      "cell_type": "code",
      "source": [
        "data = load_iris().data\n",
        "target = load_iris().target"
      ],
      "metadata": {
        "id": "ajVAxHpIu1FL"
      },
      "execution_count": 2,
      "outputs": []
    },
    {
      "cell_type": "code",
      "source": [
        "data.shape"
      ],
      "metadata": {
        "colab": {
          "base_uri": "https://localhost:8080/"
        },
        "id": "Qwz110iZvEkV",
        "outputId": "2c29b737-f4e7-4c32-aebd-77cc64d6c471"
      },
      "execution_count": 4,
      "outputs": [
        {
          "output_type": "execute_result",
          "data": {
            "text/plain": [
              "(150, 4)"
            ]
          },
          "metadata": {},
          "execution_count": 4
        }
      ]
    },
    {
      "cell_type": "code",
      "source": [
        "num_classes = len(set(target))"
      ],
      "metadata": {
        "id": "xvDnvJfzvHTU"
      },
      "execution_count": 5,
      "outputs": []
    },
    {
      "cell_type": "code",
      "source": [
        "target = to_categorical(target)\n",
        "target[:5]"
      ],
      "metadata": {
        "colab": {
          "base_uri": "https://localhost:8080/"
        },
        "id": "1Me5tWHFvFas",
        "outputId": "d9e93ea9-cd27-4f5d-a42a-ba3c1fba05be"
      },
      "execution_count": 6,
      "outputs": [
        {
          "output_type": "execute_result",
          "data": {
            "text/plain": [
              "array([[1., 0., 0.],\n",
              "       [1., 0., 0.],\n",
              "       [1., 0., 0.],\n",
              "       [1., 0., 0.],\n",
              "       [1., 0., 0.]], dtype=float32)"
            ]
          },
          "metadata": {},
          "execution_count": 6
        }
      ]
    },
    {
      "cell_type": "code",
      "source": [
        "x_train, x_test, y_train, y_test = train_test_split(data, target, test_size=0.2, random_state=123)"
      ],
      "metadata": {
        "id": "FpR8hlRAvMEM"
      },
      "execution_count": 7,
      "outputs": []
    },
    {
      "cell_type": "code",
      "source": [
        "input_shape = x_train.shape[1]"
      ],
      "metadata": {
        "id": "V-GZIn63vweO"
      },
      "execution_count": 8,
      "outputs": []
    },
    {
      "cell_type": "code",
      "source": [
        "model= Sequential([\n",
        "    Dense(16, activation='relu', input_shape = (input_shape,)),\n",
        "    Dense(10, activation='relu'),\n",
        "    Dense(num_classes, activation='softmax')\n",
        "])\n",
        "model.compile(optimizer='adam',\n",
        "              loss='categorical_crossentropy',\n",
        "              metrics=['acc'])"
      ],
      "metadata": {
        "id": "aH_S26tHv0fr"
      },
      "execution_count": 34,
      "outputs": []
    },
    {
      "cell_type": "code",
      "source": [
        "lrreducer = ReduceLROnPlateau(monitor='acc', factor=0.5, min_lr=1e-5, patience=30)\n",
        "early_stopping = EarlyStopping(monitor='acc', patience=30)\n",
        "callbacks = [lrreducer, early_stopping]"
      ],
      "metadata": {
        "id": "m_LFwStgCd9_"
      },
      "execution_count": 35,
      "outputs": []
    },
    {
      "cell_type": "code",
      "source": [
        "history = model.fit(x_train, y_train, epochs=150, callbacks=callbacks)"
      ],
      "metadata": {
        "colab": {
          "base_uri": "https://localhost:8080/"
        },
        "id": "WppBUvU7wZpk",
        "outputId": "bec28bf2-2109-4241-f980-1f902379d821"
      },
      "execution_count": 36,
      "outputs": [
        {
          "output_type": "stream",
          "name": "stdout",
          "text": [
            "Epoch 1/150\n",
            "4/4 [==============================] - 1s 6ms/step - loss: 1.1926 - acc: 0.3083 - lr: 0.0010\n",
            "Epoch 2/150\n",
            "4/4 [==============================] - 0s 6ms/step - loss: 1.1615 - acc: 0.3083 - lr: 0.0010\n",
            "Epoch 3/150\n",
            "4/4 [==============================] - 0s 5ms/step - loss: 1.1358 - acc: 0.4583 - lr: 0.0010\n",
            "Epoch 4/150\n",
            "4/4 [==============================] - 0s 7ms/step - loss: 1.1191 - acc: 0.6000 - lr: 0.0010\n",
            "Epoch 5/150\n",
            "4/4 [==============================] - 0s 7ms/step - loss: 1.1053 - acc: 0.4667 - lr: 0.0010\n",
            "Epoch 6/150\n",
            "4/4 [==============================] - 0s 5ms/step - loss: 1.0957 - acc: 0.3750 - lr: 0.0010\n",
            "Epoch 7/150\n",
            "4/4 [==============================] - 0s 6ms/step - loss: 1.0855 - acc: 0.3500 - lr: 0.0010\n",
            "Epoch 8/150\n",
            "4/4 [==============================] - 0s 5ms/step - loss: 1.0776 - acc: 0.3667 - lr: 0.0010\n",
            "Epoch 9/150\n",
            "4/4 [==============================] - 0s 6ms/step - loss: 1.0700 - acc: 0.3833 - lr: 0.0010\n",
            "Epoch 10/150\n",
            "4/4 [==============================] - 0s 5ms/step - loss: 1.0630 - acc: 0.4083 - lr: 0.0010\n",
            "Epoch 11/150\n",
            "4/4 [==============================] - 0s 5ms/step - loss: 1.0567 - acc: 0.4500 - lr: 0.0010\n",
            "Epoch 12/150\n",
            "4/4 [==============================] - 0s 6ms/step - loss: 1.0499 - acc: 0.4583 - lr: 0.0010\n",
            "Epoch 13/150\n",
            "4/4 [==============================] - 0s 5ms/step - loss: 1.0441 - acc: 0.4500 - lr: 0.0010\n",
            "Epoch 14/150\n",
            "4/4 [==============================] - 0s 5ms/step - loss: 1.0381 - acc: 0.4833 - lr: 0.0010\n",
            "Epoch 15/150\n",
            "4/4 [==============================] - 0s 5ms/step - loss: 1.0327 - acc: 0.4917 - lr: 0.0010\n",
            "Epoch 16/150\n",
            "4/4 [==============================] - 0s 7ms/step - loss: 1.0268 - acc: 0.5167 - lr: 0.0010\n",
            "Epoch 17/150\n",
            "4/4 [==============================] - 0s 5ms/step - loss: 1.0207 - acc: 0.5167 - lr: 0.0010\n",
            "Epoch 18/150\n",
            "4/4 [==============================] - 0s 5ms/step - loss: 1.0148 - acc: 0.5167 - lr: 0.0010\n",
            "Epoch 19/150\n",
            "4/4 [==============================] - 0s 5ms/step - loss: 1.0087 - acc: 0.5250 - lr: 0.0010\n",
            "Epoch 20/150\n",
            "4/4 [==============================] - 0s 5ms/step - loss: 1.0026 - acc: 0.5333 - lr: 0.0010\n",
            "Epoch 21/150\n",
            "4/4 [==============================] - 0s 5ms/step - loss: 0.9964 - acc: 0.5333 - lr: 0.0010\n",
            "Epoch 22/150\n",
            "4/4 [==============================] - 0s 5ms/step - loss: 0.9895 - acc: 0.5417 - lr: 0.0010\n",
            "Epoch 23/150\n",
            "4/4 [==============================] - 0s 5ms/step - loss: 0.9827 - acc: 0.5833 - lr: 0.0010\n",
            "Epoch 24/150\n",
            "4/4 [==============================] - 0s 5ms/step - loss: 0.9752 - acc: 0.5750 - lr: 0.0010\n",
            "Epoch 25/150\n",
            "4/4 [==============================] - 0s 5ms/step - loss: 0.9675 - acc: 0.6583 - lr: 0.0010\n",
            "Epoch 26/150\n",
            "4/4 [==============================] - 0s 5ms/step - loss: 0.9597 - acc: 0.7167 - lr: 0.0010\n",
            "Epoch 27/150\n",
            "4/4 [==============================] - 0s 5ms/step - loss: 0.9510 - acc: 0.7583 - lr: 0.0010\n",
            "Epoch 28/150\n",
            "4/4 [==============================] - 0s 5ms/step - loss: 0.9423 - acc: 0.7750 - lr: 0.0010\n",
            "Epoch 29/150\n",
            "4/4 [==============================] - 0s 5ms/step - loss: 0.9336 - acc: 0.8083 - lr: 0.0010\n",
            "Epoch 30/150\n",
            "4/4 [==============================] - 0s 5ms/step - loss: 0.9241 - acc: 0.7917 - lr: 0.0010\n",
            "Epoch 31/150\n",
            "4/4 [==============================] - 0s 6ms/step - loss: 0.9126 - acc: 0.8000 - lr: 0.0010\n",
            "Epoch 32/150\n",
            "4/4 [==============================] - 0s 5ms/step - loss: 0.8998 - acc: 0.8167 - lr: 0.0010\n",
            "Epoch 33/150\n",
            "4/4 [==============================] - 0s 5ms/step - loss: 0.8860 - acc: 0.8000 - lr: 0.0010\n",
            "Epoch 34/150\n",
            "4/4 [==============================] - 0s 6ms/step - loss: 0.8709 - acc: 0.7917 - lr: 0.0010\n",
            "Epoch 35/150\n",
            "4/4 [==============================] - 0s 5ms/step - loss: 0.8548 - acc: 0.7833 - lr: 0.0010\n",
            "Epoch 36/150\n",
            "4/4 [==============================] - 0s 7ms/step - loss: 0.8370 - acc: 0.7833 - lr: 0.0010\n",
            "Epoch 37/150\n",
            "4/4 [==============================] - 0s 5ms/step - loss: 0.8209 - acc: 0.7833 - lr: 0.0010\n",
            "Epoch 38/150\n",
            "4/4 [==============================] - 0s 5ms/step - loss: 0.8055 - acc: 0.8000 - lr: 0.0010\n",
            "Epoch 39/150\n",
            "4/4 [==============================] - 0s 5ms/step - loss: 0.7891 - acc: 0.8583 - lr: 0.0010\n",
            "Epoch 40/150\n",
            "4/4 [==============================] - 0s 7ms/step - loss: 0.7742 - acc: 0.9000 - lr: 0.0010\n",
            "Epoch 41/150\n",
            "4/4 [==============================] - 0s 7ms/step - loss: 0.7568 - acc: 0.9333 - lr: 0.0010\n",
            "Epoch 42/150\n",
            "4/4 [==============================] - 0s 6ms/step - loss: 0.7409 - acc: 0.8917 - lr: 0.0010\n",
            "Epoch 43/150\n",
            "4/4 [==============================] - 0s 5ms/step - loss: 0.7260 - acc: 0.8583 - lr: 0.0010\n",
            "Epoch 44/150\n",
            "4/4 [==============================] - 0s 5ms/step - loss: 0.7099 - acc: 0.8417 - lr: 0.0010\n",
            "Epoch 45/150\n",
            "4/4 [==============================] - 0s 6ms/step - loss: 0.6952 - acc: 0.8500 - lr: 0.0010\n",
            "Epoch 46/150\n",
            "4/4 [==============================] - 0s 5ms/step - loss: 0.6802 - acc: 0.8500 - lr: 0.0010\n",
            "Epoch 47/150\n",
            "4/4 [==============================] - 0s 6ms/step - loss: 0.6664 - acc: 0.8583 - lr: 0.0010\n",
            "Epoch 48/150\n",
            "4/4 [==============================] - 0s 6ms/step - loss: 0.6516 - acc: 0.8583 - lr: 0.0010\n",
            "Epoch 49/150\n",
            "4/4 [==============================] - 0s 5ms/step - loss: 0.6383 - acc: 0.8583 - lr: 0.0010\n",
            "Epoch 50/150\n",
            "4/4 [==============================] - 0s 5ms/step - loss: 0.6251 - acc: 0.8500 - lr: 0.0010\n",
            "Epoch 51/150\n",
            "4/4 [==============================] - 0s 5ms/step - loss: 0.6126 - acc: 0.8583 - lr: 0.0010\n",
            "Epoch 52/150\n",
            "4/4 [==============================] - 0s 6ms/step - loss: 0.6007 - acc: 0.8667 - lr: 0.0010\n",
            "Epoch 53/150\n",
            "4/4 [==============================] - 0s 5ms/step - loss: 0.5888 - acc: 0.8667 - lr: 0.0010\n",
            "Epoch 54/150\n",
            "4/4 [==============================] - 0s 5ms/step - loss: 0.5774 - acc: 0.8833 - lr: 0.0010\n",
            "Epoch 55/150\n",
            "4/4 [==============================] - 0s 5ms/step - loss: 0.5668 - acc: 0.9083 - lr: 0.0010\n",
            "Epoch 56/150\n",
            "4/4 [==============================] - 0s 8ms/step - loss: 0.5562 - acc: 0.9250 - lr: 0.0010\n",
            "Epoch 57/150\n",
            "4/4 [==============================] - 0s 6ms/step - loss: 0.5463 - acc: 0.9417 - lr: 0.0010\n",
            "Epoch 58/150\n",
            "4/4 [==============================] - 0s 5ms/step - loss: 0.5367 - acc: 0.9333 - lr: 0.0010\n",
            "Epoch 59/150\n",
            "4/4 [==============================] - 0s 6ms/step - loss: 0.5272 - acc: 0.9417 - lr: 0.0010\n",
            "Epoch 60/150\n",
            "4/4 [==============================] - 0s 5ms/step - loss: 0.5184 - acc: 0.9417 - lr: 0.0010\n",
            "Epoch 61/150\n",
            "4/4 [==============================] - 0s 5ms/step - loss: 0.5099 - acc: 0.9417 - lr: 0.0010\n",
            "Epoch 62/150\n",
            "4/4 [==============================] - 0s 5ms/step - loss: 0.5019 - acc: 0.9500 - lr: 0.0010\n",
            "Epoch 63/150\n",
            "4/4 [==============================] - 0s 6ms/step - loss: 0.4937 - acc: 0.9500 - lr: 0.0010\n",
            "Epoch 64/150\n",
            "4/4 [==============================] - 0s 6ms/step - loss: 0.4867 - acc: 0.9667 - lr: 0.0010\n",
            "Epoch 65/150\n",
            "4/4 [==============================] - 0s 7ms/step - loss: 0.4788 - acc: 0.9750 - lr: 0.0010\n",
            "Epoch 66/150\n",
            "4/4 [==============================] - 0s 7ms/step - loss: 0.4716 - acc: 0.9667 - lr: 0.0010\n",
            "Epoch 67/150\n",
            "4/4 [==============================] - 0s 5ms/step - loss: 0.4653 - acc: 0.9667 - lr: 0.0010\n",
            "Epoch 68/150\n",
            "4/4 [==============================] - 0s 5ms/step - loss: 0.4586 - acc: 0.9750 - lr: 0.0010\n",
            "Epoch 69/150\n",
            "4/4 [==============================] - 0s 5ms/step - loss: 0.4518 - acc: 0.9750 - lr: 0.0010\n",
            "Epoch 70/150\n",
            "4/4 [==============================] - 0s 5ms/step - loss: 0.4452 - acc: 0.9750 - lr: 0.0010\n",
            "Epoch 71/150\n",
            "4/4 [==============================] - 0s 5ms/step - loss: 0.4394 - acc: 0.9667 - lr: 0.0010\n",
            "Epoch 72/150\n",
            "4/4 [==============================] - 0s 5ms/step - loss: 0.4340 - acc: 0.9583 - lr: 0.0010\n",
            "Epoch 73/150\n",
            "4/4 [==============================] - 0s 5ms/step - loss: 0.4282 - acc: 0.9750 - lr: 0.0010\n",
            "Epoch 74/150\n",
            "4/4 [==============================] - 0s 5ms/step - loss: 0.4220 - acc: 0.9750 - lr: 0.0010\n",
            "Epoch 75/150\n",
            "4/4 [==============================] - 0s 5ms/step - loss: 0.4168 - acc: 0.9750 - lr: 0.0010\n",
            "Epoch 76/150\n",
            "4/4 [==============================] - 0s 5ms/step - loss: 0.4112 - acc: 0.9750 - lr: 0.0010\n",
            "Epoch 77/150\n",
            "4/4 [==============================] - 0s 7ms/step - loss: 0.4058 - acc: 0.9750 - lr: 0.0010\n",
            "Epoch 78/150\n",
            "4/4 [==============================] - 0s 6ms/step - loss: 0.4013 - acc: 0.9750 - lr: 0.0010\n",
            "Epoch 79/150\n",
            "4/4 [==============================] - 0s 5ms/step - loss: 0.3953 - acc: 0.9750 - lr: 0.0010\n",
            "Epoch 80/150\n",
            "4/4 [==============================] - 0s 6ms/step - loss: 0.3905 - acc: 0.9750 - lr: 0.0010\n",
            "Epoch 81/150\n",
            "4/4 [==============================] - 0s 5ms/step - loss: 0.3860 - acc: 0.9750 - lr: 0.0010\n",
            "Epoch 82/150\n",
            "4/4 [==============================] - 0s 5ms/step - loss: 0.3810 - acc: 0.9750 - lr: 0.0010\n",
            "Epoch 83/150\n",
            "4/4 [==============================] - 0s 5ms/step - loss: 0.3758 - acc: 0.9750 - lr: 0.0010\n",
            "Epoch 84/150\n",
            "4/4 [==============================] - 0s 5ms/step - loss: 0.3709 - acc: 0.9750 - lr: 0.0010\n",
            "Epoch 85/150\n",
            "4/4 [==============================] - 0s 5ms/step - loss: 0.3664 - acc: 0.9833 - lr: 0.0010\n",
            "Epoch 86/150\n",
            "4/4 [==============================] - 0s 5ms/step - loss: 0.3619 - acc: 0.9833 - lr: 0.0010\n",
            "Epoch 87/150\n",
            "4/4 [==============================] - 0s 5ms/step - loss: 0.3568 - acc: 0.9750 - lr: 0.0010\n",
            "Epoch 88/150\n",
            "4/4 [==============================] - 0s 5ms/step - loss: 0.3524 - acc: 0.9750 - lr: 0.0010\n",
            "Epoch 89/150\n",
            "4/4 [==============================] - 0s 7ms/step - loss: 0.3482 - acc: 0.9750 - lr: 0.0010\n",
            "Epoch 90/150\n",
            "4/4 [==============================] - 0s 6ms/step - loss: 0.3448 - acc: 0.9750 - lr: 0.0010\n",
            "Epoch 91/150\n",
            "4/4 [==============================] - 0s 7ms/step - loss: 0.3396 - acc: 0.9750 - lr: 0.0010\n",
            "Epoch 92/150\n",
            "4/4 [==============================] - 0s 7ms/step - loss: 0.3353 - acc: 0.9750 - lr: 0.0010\n",
            "Epoch 93/150\n",
            "4/4 [==============================] - 0s 6ms/step - loss: 0.3309 - acc: 0.9833 - lr: 0.0010\n",
            "Epoch 94/150\n",
            "4/4 [==============================] - 0s 8ms/step - loss: 0.3263 - acc: 0.9833 - lr: 0.0010\n",
            "Epoch 95/150\n",
            "4/4 [==============================] - 0s 7ms/step - loss: 0.3224 - acc: 0.9750 - lr: 0.0010\n",
            "Epoch 96/150\n",
            "4/4 [==============================] - 0s 8ms/step - loss: 0.3184 - acc: 0.9750 - lr: 0.0010\n",
            "Epoch 97/150\n",
            "4/4 [==============================] - 0s 8ms/step - loss: 0.3140 - acc: 0.9750 - lr: 0.0010\n",
            "Epoch 98/150\n",
            "4/4 [==============================] - 0s 7ms/step - loss: 0.3099 - acc: 0.9833 - lr: 0.0010\n",
            "Epoch 99/150\n",
            "4/4 [==============================] - 0s 7ms/step - loss: 0.3058 - acc: 0.9833 - lr: 0.0010\n",
            "Epoch 100/150\n",
            "4/4 [==============================] - 0s 7ms/step - loss: 0.3026 - acc: 0.9833 - lr: 0.0010\n",
            "Epoch 101/150\n",
            "4/4 [==============================] - 0s 7ms/step - loss: 0.2979 - acc: 0.9833 - lr: 0.0010\n",
            "Epoch 102/150\n",
            "4/4 [==============================] - 0s 7ms/step - loss: 0.2940 - acc: 0.9833 - lr: 0.0010\n",
            "Epoch 103/150\n",
            "4/4 [==============================] - 0s 7ms/step - loss: 0.2904 - acc: 0.9833 - lr: 0.0010\n",
            "Epoch 104/150\n",
            "4/4 [==============================] - 0s 7ms/step - loss: 0.2862 - acc: 0.9833 - lr: 0.0010\n",
            "Epoch 105/150\n",
            "4/4 [==============================] - 0s 7ms/step - loss: 0.2825 - acc: 0.9833 - lr: 0.0010\n",
            "Epoch 106/150\n",
            "4/4 [==============================] - 0s 7ms/step - loss: 0.2789 - acc: 0.9833 - lr: 0.0010\n",
            "Epoch 107/150\n",
            "4/4 [==============================] - 0s 8ms/step - loss: 0.2749 - acc: 0.9833 - lr: 0.0010\n",
            "Epoch 108/150\n",
            "4/4 [==============================] - 0s 7ms/step - loss: 0.2713 - acc: 0.9833 - lr: 0.0010\n",
            "Epoch 109/150\n",
            "4/4 [==============================] - 0s 7ms/step - loss: 0.2676 - acc: 0.9833 - lr: 0.0010\n",
            "Epoch 110/150\n",
            "4/4 [==============================] - 0s 7ms/step - loss: 0.2642 - acc: 0.9833 - lr: 0.0010\n",
            "Epoch 111/150\n",
            "4/4 [==============================] - 0s 6ms/step - loss: 0.2624 - acc: 0.9833 - lr: 0.0010\n",
            "Epoch 112/150\n",
            "4/4 [==============================] - 0s 6ms/step - loss: 0.2570 - acc: 0.9833 - lr: 0.0010\n",
            "Epoch 113/150\n",
            "4/4 [==============================] - 0s 6ms/step - loss: 0.2540 - acc: 0.9833 - lr: 0.0010\n",
            "Epoch 114/150\n",
            "4/4 [==============================] - 0s 6ms/step - loss: 0.2503 - acc: 0.9833 - lr: 0.0010\n",
            "Epoch 115/150\n",
            "4/4 [==============================] - 0s 7ms/step - loss: 0.2467 - acc: 0.9833 - lr: 0.0010\n"
          ]
        }
      ]
    },
    {
      "cell_type": "code",
      "source": [
        "model.evaluate(x_test, y_test)"
      ],
      "metadata": {
        "colab": {
          "base_uri": "https://localhost:8080/"
        },
        "id": "FVokK_Qwwg9w",
        "outputId": "76c0a987-7a7d-441c-8115-b65d71a8f182"
      },
      "execution_count": 37,
      "outputs": [
        {
          "output_type": "stream",
          "name": "stdout",
          "text": [
            "1/1 [==============================] - 0s 230ms/step - loss: 0.2624 - acc: 0.9333\n"
          ]
        },
        {
          "output_type": "execute_result",
          "data": {
            "text/plain": [
              "[0.26240676641464233, 0.9333333373069763]"
            ]
          },
          "metadata": {},
          "execution_count": 37
        }
      ]
    },
    {
      "cell_type": "code",
      "source": [
        "plt.figure(figsize=(10,10))\n",
        "\n",
        "plt.subplot(1,2,1)\n",
        "plt.plot(history.history['loss'], label='Training Loss')\n",
        "plt.title('Loss')\n",
        "plt.xlabel('Epochs')\n",
        "plt.ylabel('Training Loss')\n",
        "\n",
        "plt.subplot(1,2,2)\n",
        "plt.plot(history.history['acc'], label='Training Accuracy')\n",
        "plt.title('Accuracy')\n",
        "plt.xlabel('Epochs')\n",
        "plt.ylabel('Training Accuracy')\n",
        "\n",
        "plt.show()"
      ],
      "metadata": {
        "colab": {
          "base_uri": "https://localhost:8080/",
          "height": 872
        },
        "id": "sLwHumZsxsCc",
        "outputId": "1b0bc1f2-6f9e-455e-9245-3a65b07d3dac"
      },
      "execution_count": 38,
      "outputs": [
        {
          "output_type": "display_data",
          "data": {
            "text/plain": [
              "<Figure size 1000x1000 with 2 Axes>"
            ],
            "image/png": "[encoded data removed]"
          },
          "metadata": {}
        }
      ]
    },
    {
      "cell_type": "code",
      "source": [
        "model.save('iris_classifier.h5')"
      ],
      "metadata": {
        "colab": {
          "base_uri": "https://localhost:8080/"
        },
        "id": "xi4qcN6kzOi3",
        "outputId": "fa7d7ec8-a402-4968-ed93-a1f260a6db79"
      },
      "execution_count": 39,
      "outputs": [
        {
          "output_type": "stream",
          "name": "stderr",
          "text": [
            "/usr/local/lib/python3.10/dist-packages/keras/src/engine/training.py:3103: UserWarning: You are saving your model as an HDF5 file via `model.save()`. This file format is considered legacy. We recommend using instead the native Keras format, e.g. `model.save('my_model.keras')`.\n",
            "  saving_api.save_model(\n"
          ]
        }
      ]
    },
    {
      "cell_type": "code",
      "source": [],
      "metadata": {
        "id": "Mh8Vu_-lCpX1"
      },
      "execution_count": null,
      "outputs": []
    }
  ]
}